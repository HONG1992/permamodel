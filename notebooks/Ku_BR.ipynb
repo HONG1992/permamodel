{
 "cells": [
  {
   "cell_type": "code",
   "execution_count": 1,
   "metadata": {
    "collapsed": false
   },
   "outputs": [
    {
     "name": "stdout",
     "output_type": "stream",
     "text": [
      "../../permamodel/permamodel/examples\n",
      " \n",
      "Ku model component: Initializing...\n",
      "A\n",
      "T\n",
      "Permafrost component: Finished.\n",
      "Latitude: 71.3167\n",
      "Longitude: -156.5833\n",
      "Start: 1961\n",
      "Start: 2011\n",
      "Simulated ALT:\n",
      "1961 0.372341607994 m\n",
      "1962 0.427335891828 m\n",
      "1963 0.291875806571 m\n",
      "1964 0.222976942729 m\n",
      "1965 0.37756857076 m\n",
      "1966 0.299614183679 m\n",
      "1967 0.22328950881 m\n",
      "1968 0.485735353288 m\n",
      "1969 0.14783406887 m\n",
      "1970 0.0890763603944 m\n",
      "1971 0.327643991467 m\n",
      "1972 0.357777253398 m\n",
      "1973 0.373690653096 m\n",
      "1974 0.29224675473 m\n",
      "1975 0.172945368309 m\n",
      "1976 0.239897726405 m\n",
      "1977 0.419220891643 m\n",
      "1978 0.201558576141 m\n",
      "1979 0.503687286625 m\n",
      "1980 0.12838603053 m\n",
      "1981 0.290297616636 m\n",
      "1982 0.0902151926489 m\n",
      "1983 0.21012983235 m\n",
      "1984 0.454659449253 m\n",
      "1985 0.249296435327 m\n",
      "1986 0.360630758212 m\n",
      "1987 0.281309127521 m\n",
      "1988 0.0823329657788 m\n",
      "1989 0.572216881503 m\n",
      "1990 0.377138699299 m\n",
      "1991 0.212928620971 m\n",
      "1992 0.301042688503 m\n",
      "1993 0.448424180352 m\n",
      "1994 0.303716771719 m\n",
      "1995 0.353063545586 m\n",
      "1996 0.394300560716 m\n",
      "1997 0.410343504791 m\n",
      "1998 0.611363328002 m\n",
      "1999 0.358227507973 m\n",
      "2000 0.244868037977 m\n",
      "2001 0.238253559185 m\n",
      "2002 0.413345612925 m\n",
      "2003 0.37871165517 m\n",
      "2004 0.533823448041 m\n",
      "2005 0.366382445442 m\n",
      "2006 0.439966484916 m\n",
      "2007 0.55033381194 m\n",
      "2008 0.430192407873 m\n",
      "2009 0.487798293866 m\n",
      "2010 0.49218732721 m\n",
      "2011 0.333788599235 m\n"
     ]
    }
   ],
   "source": [
    "import os,sys\n",
    "sys.path.append('../../permamodel/')\n",
    "\n",
    "from permamodel.components import bmi_Ku_component\n",
    "from permamodel import examples_directory\n",
    "import numpy as np\n",
    "\n",
    "print examples_directory\n",
    "\n",
    "cfg_file = os.path.join(examples_directory, 'Ku_method_TS_BR.cfg')\n",
    "x = bmi_Ku_component.BmiKuMethod()\n",
    "\n",
    "x.initialize(cfg_file)\n",
    "x.update()\n",
    "x.finalize()\n",
    "\n",
    "ALT = x.get_value('soil__active_layer_thickness')[0]\n",
    "\n",
    "# print x._values[\"ALT\"][:]\n",
    "print 'Latitude:',x.get_value('latitude')\n",
    "print 'Longitude:',x.get_value('longitude')\n",
    "print 'Start:',x.get_value('datetime__start')\n",
    "print 'Start:',x.get_value('datetime__end')\n",
    "print 'Simulated ALT:'\n",
    "for i in np.arange(np.size(ALT)):\n",
    "    print x.get_value('datetime__start')+i, ALT[i],'m'"
   ]
  },
  {
   "cell_type": "code",
   "execution_count": 2,
   "metadata": {
    "collapsed": false
   },
   "outputs": [
    {
     "name": "stdout",
     "output_type": "stream",
     "text": [
      "True\n"
     ]
    }
   ],
   "source": [
    "print 'T'=='T'"
   ]
  },
  {
   "cell_type": "code",
   "execution_count": null,
   "metadata": {
    "collapsed": true
   },
   "outputs": [],
   "source": []
  },
  {
   "cell_type": "code",
   "execution_count": null,
   "metadata": {
    "collapsed": true
   },
   "outputs": [],
   "source": []
  },
  {
   "cell_type": "code",
   "execution_count": null,
   "metadata": {
    "collapsed": true
   },
   "outputs": [],
   "source": []
  }
 ],
 "metadata": {
  "kernelspec": {
   "display_name": "Python 2",
   "language": "python",
   "name": "python2"
  },
  "language_info": {
   "codemirror_mode": {
    "name": "ipython",
    "version": 2
   },
   "file_extension": ".py",
   "mimetype": "text/x-python",
   "name": "python",
   "nbconvert_exporter": "python",
   "pygments_lexer": "ipython2",
   "version": "2.7.13"
  }
 },
 "nbformat": 4,
 "nbformat_minor": 0
}
