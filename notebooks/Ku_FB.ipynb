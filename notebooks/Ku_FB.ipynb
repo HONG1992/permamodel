{
 "cells": [
  {
   "cell_type": "code",
   "execution_count": 6,
   "metadata": {
    "collapsed": false
   },
   "outputs": [
    {
     "name": "stdout",
     "output_type": "stream",
     "text": [
      "../../permamodel/permamodel/examples\n",
      " \n",
      "Ku model component: Initializing...\n",
      "Permafrost component: Finished.\n",
      "Latitude: 64.8675\n",
      "Longitude: -147.8588\n",
      "Start: 1961\n",
      "Start: 2015\n",
      "Simulated ALT:\n",
      "1961 0.694188676631 m\n",
      "1962 0.715361871081 m\n",
      "1963 0.667532042767 m\n",
      "1964 0.710834468561 m\n",
      "1965 0.666639374297 m\n",
      "1966 0.829935142968 m\n",
      "1967 0.769398035913 m\n",
      "1968 0.783515532026 m\n",
      "1969 0.871317742305 m\n",
      "1970 0.772290311968 m\n",
      "1971 0.909269521228 m\n",
      "1972 0.747120251094 m\n",
      "1973 0.761536766616 m\n",
      "1974 0.749701421204 m\n",
      "1975 0.815874125924 m\n",
      "1976 0.721426945306 m\n",
      "1977 0.769281656888 m\n",
      "1978 0.683619407894 m\n",
      "1979 0.833741251733 m\n",
      "1980 0.816431462083 m\n",
      "1981 0.701518869933 m\n",
      "1982 0.78516054447 m\n",
      "1983 0.763146534483 m\n",
      "1984 0.73735058709 m\n",
      "1985 0.747765068524 m\n",
      "1986 0.642955501886 m\n",
      "1987 0.708555468578 m\n",
      "1988 0.730237787887 m\n",
      "1989 0.865588969844 m\n",
      "1990 0.878108818523 m\n",
      "1991 0.770730828933 m\n",
      "1992 0.7158374194 m\n",
      "1993 0.824430214105 m\n",
      "1994 0.73155058956 m\n",
      "1995 0.734409054895 m\n",
      "1996 0.718671927932 m\n",
      "1997 0.827965490957 m\n",
      "1998 0.742871120862 m\n",
      "1999 0.656127258137 m\n",
      "2000 0.725755208752 m\n",
      "2001 0.700914006305 m\n",
      "2002 0.651234757497 m\n",
      "2003 0.693630729594 m\n",
      "2004 0.8369656965 m\n",
      "2005 0.741700969827 m\n",
      "2006 0.742692563656 m\n",
      "2007 0.679556107389 m\n",
      "2008 0.635610349476 m\n",
      "2009 0.777294528131 m\n",
      "2010 0.779354514766 m\n",
      "2011 0.688623006925 m\n",
      "2012 0.784547139055 m\n",
      "2013 0.73317608529 m\n",
      "2014 0.720062466996 m\n",
      "2015 0.717590218341 m\n"
     ]
    }
   ],
   "source": [
    "import os,sys\n",
    "sys.path.append('../../permamodel/')\n",
    "\n",
    "from permamodel.components import bmi_Ku_component\n",
    "from permamodel import examples_directory\n",
    "import numpy as np\n",
    "\n",
    "print examples_directory\n",
    "\n",
    "cfg_file = os.path.join(examples_directory, 'Ku_method_TS_FB.cfg')\n",
    "x = bmi_Ku_component.BmiKuMethod()\n",
    "\n",
    "x.initialize(cfg_file)\n",
    "x.update()\n",
    "x.finalize()\n",
    "\n",
    "ALT = x.get_value('soil__active_layer_thickness')[0]\n",
    "\n",
    "# print x._values[\"ALT\"][:]\n",
    "print 'Latitude:',x.get_value('latitude')\n",
    "print 'Longitude:',x.get_value('longitude')\n",
    "print 'Start:',x.get_value('datetime__start')\n",
    "print 'Start:',x.get_value('datetime__end')\n",
    "print 'Simulated ALT:'\n",
    "for i in np.arange(np.size(ALT)):\n",
    "    print x.get_value('datetime__start')+i, ALT[i],'m'"
   ]
  },
  {
   "cell_type": "code",
   "execution_count": 7,
   "metadata": {
    "collapsed": false
   },
   "outputs": [
    {
     "name": "stdout",
     "output_type": "stream",
     "text": [
      "0.694188676631\n",
      "0.715361871081\n",
      "0.667532042767\n",
      "0.710834468561\n",
      "0.666639374297\n",
      "0.829935142968\n",
      "0.769398035913\n",
      "0.783515532026\n",
      "0.871317742305\n",
      "0.772290311968\n",
      "0.909269521228\n",
      "0.747120251094\n",
      "0.761536766616\n",
      "0.749701421204\n",
      "0.815874125924\n",
      "0.721426945306\n",
      "0.769281656888\n",
      "0.683619407894\n",
      "0.833741251733\n",
      "0.816431462083\n",
      "0.701518869933\n",
      "0.78516054447\n",
      "0.763146534483\n",
      "0.73735058709\n",
      "0.747765068524\n",
      "0.642955501886\n",
      "0.708555468578\n",
      "0.730237787887\n",
      "0.865588969844\n",
      "0.878108818523\n",
      "0.770730828933\n",
      "0.7158374194\n",
      "0.824430214105\n",
      "0.73155058956\n",
      "0.734409054895\n",
      "0.718671927932\n",
      "0.827965490957\n",
      "0.742871120862\n",
      "0.656127258137\n",
      "0.725755208752\n",
      "0.700914006305\n",
      "0.651234757497\n",
      "0.693630729594\n",
      "0.8369656965\n",
      "0.741700969827\n",
      "0.742692563656\n",
      "0.679556107389\n",
      "0.635610349476\n",
      "0.777294528131\n",
      "0.779354514766\n",
      "0.688623006925\n",
      "0.784547139055\n",
      "0.73317608529\n",
      "0.720062466996\n",
      "0.717590218341\n"
     ]
    }
   ],
   "source": [
    "for i in np.arange(np.size(ALT)):\n",
    "    print ALT[i]"
   ]
  },
  {
   "cell_type": "code",
   "execution_count": null,
   "metadata": {
    "collapsed": true
   },
   "outputs": [],
   "source": []
  },
  {
   "cell_type": "code",
   "execution_count": null,
   "metadata": {
    "collapsed": true
   },
   "outputs": [],
   "source": []
  },
  {
   "cell_type": "code",
   "execution_count": null,
   "metadata": {
    "collapsed": true
   },
   "outputs": [],
   "source": []
  }
 ],
 "metadata": {
  "kernelspec": {
   "display_name": "Python 2",
   "language": "python",
   "name": "python2"
  },
  "language_info": {
   "codemirror_mode": {
    "name": "ipython",
    "version": 2
   },
   "file_extension": ".py",
   "mimetype": "text/x-python",
   "name": "python",
   "nbconvert_exporter": "python",
   "pygments_lexer": "ipython2",
   "version": "2.7.13"
  }
 },
 "nbformat": 4,
 "nbformat_minor": 0
}
