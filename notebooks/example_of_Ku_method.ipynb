{
 "cells": [
  {
   "cell_type": "code",
   "execution_count": 2,
   "metadata": {
    "collapsed": false,
    "scrolled": true
   },
   "outputs": [
    {
     "name": "stdout",
     "output_type": "stream",
     "text": [
      " \n",
      "Ku model component: Initializing...\n",
      "initialized\n",
      "-0.0625\n",
      "55.0\n",
      "1.6148710656\n",
      "16.6275481586\n",
      "3.00945040295\n",
      "196.837526355\n",
      "0.31750471451\n",
      "0.0\n",
      "0.0\n",
      "1.39e-06\n",
      "5.56e-08\n",
      "Total grids = 667833 \n",
      "Permafrost component: Finished.\n",
      "Running: 175.6 s\n",
      "ALT_min = 0.000 m\n",
      "ALT_avg = 0.819 m\n",
      "ALT_max = 5.131 m\n"
     ]
    }
   ],
   "source": [
    "import sys\n",
    "sys.path.append('../../permamodel/')\n",
    "\n",
    "from time import clock\n",
    "time_start = clock()\n",
    "from permamodel.components import Ku_component \n",
    "x=Ku_component.Ku_method()\n",
    "\n",
    "x.initialize('../permamodel/examples/Fairbanks_Ku_method_grid.cfg')\n",
    "print x.initialize.im_self.status\n",
    "\n",
    "import numpy as np\n",
    "print np.nanmean(x.lon)\n",
    "print np.nanmean(x.lat)\n",
    "print np.nanmean(x.T_air)\n",
    "print np.nanmean(x.A_air)\n",
    "print np.nanmean(x.h_snow)\n",
    "print np.nanmean(x.rho_snow)\n",
    "print np.nanmean(x.vwc_H2O)\n",
    "print np.nanmean(x.Hvgf)\n",
    "print np.nanmean(x.Hvgt)\n",
    "print np.nanmean(x.Dvf)\n",
    "print np.nanmean(x.Dvt)\n",
    "\n",
    "print 'Total grids = {0:d} '.format(np.sum(~np.isnan(x.T_air)))\n",
    "\n",
    "x.update()\n",
    "\n",
    "x.finalize()\n",
    "\n",
    "time_finish=clock()\n",
    "    \n",
    "print'Running: {0:0.1f} s'.format((time_finish-time_start))\n",
    "\n",
    "print 'ALT_min = {0:0.3f} m'.format(np.nanmin(x.Zal))\n",
    "print 'ALT_avg = {0:0.3f} m'.format(np.nanmean(x.Zal))\n",
    "print 'ALT_max = {0:0.3f} m'.format(np.nanmax(x.Zal))"
   ]
  },
  {
   "cell_type": "code",
   "execution_count": null,
   "metadata": {
    "collapsed": true
   },
   "outputs": [],
   "source": []
  }
 ],
 "metadata": {
  "kernelspec": {
   "display_name": "Python 2",
   "language": "python",
   "name": "python2"
  },
  "language_info": {
   "codemirror_mode": {
    "name": "ipython",
    "version": 2
   },
   "file_extension": ".py",
   "mimetype": "text/x-python",
   "name": "python",
   "nbconvert_exporter": "python",
   "pygments_lexer": "ipython2",
   "version": "2.7.11"
  }
 },
 "nbformat": 4,
 "nbformat_minor": 0
}
