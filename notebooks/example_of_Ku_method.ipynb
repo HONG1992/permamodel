{
 "cells": [
  {
   "cell_type": "code",
   "execution_count": 3,
   "metadata": {
    "collapsed": false,
    "scrolled": true
   },
   "outputs": [
    {
     "name": "stdout",
     "output_type": "stream",
     "text": [
      " \n",
      "Ku model component: Initializing...\n",
      "../permamodel/examples/Ku_method.cfg\n",
      "../permamodel/examples/Ku_method.cfg\n",
      "initialized\n",
      "Inputs:\n",
      "  Lon = -156.58\n",
      "  Lat = 71.32\n",
      "  MAAT = -10.92\n",
      "  Amplitude = 15.71\n",
      "  Snow Depth = 0.21 m\n",
      "  Snow Density = 200.00 kg/m3\n",
      "  VWC = 0.40 m3/m3\n",
      "  Height vegetation (Frozen) = 0.02 m\n",
      "  Height vegetation (Thawed) = 0.03 m\n",
      "  Thermal diffusivity vegetation (Frozen) = 1.39e-06\n",
      "  Thermal diffusivity vegetation (Thawed) = 5.56e-08\n",
      "Permafrost component: Finished.\n",
      "Running: 1.7 s\n",
      "Outputs:\n",
      "  ALT = 0.35 m\n",
      "  TTOP = -9.36 C\n",
      "  Offset Snow = 2.43 C\n",
      "  Offset Vegetation = -0.00 C\n",
      "  Obs. ALT at Barrow (1995-2002) = 0.36 [0.31-0.41] m\n"
     ]
    }
   ],
   "source": [
    "import sys\n",
    "sys.path.append('../../permamodel/')\n",
    "\n",
    "from time import clock\n",
    "time_start = clock()\n",
    "from permamodel.components import Ku_component \n",
    "x=Ku_component.Ku_method()\n",
    "\n",
    "x.initialize('../permamodel/examples/Ku_method.cfg')\n",
    "#x.initialize()\n",
    "print x.initialize.im_self.status\n",
    "\n",
    "import numpy as np\n",
    "\n",
    "print 'Inputs:'\n",
    "print '  Lon = {0:0.2f}'.format(np.nanmean(x.lon))\n",
    "print '  Lat = {0:0.2f}'.format(np.nanmean(x.lat))\n",
    "print '  MAAT = {0:0.2f}'.format(np.nanmean(x.T_air))\n",
    "print '  Amplitude = {0:0.2f}'.format(np.nanmean(x.A_air))\n",
    "print '  Snow Depth = {0:0.2f} m'.format(np.nanmean(x.h_snow))\n",
    "print '  Snow Density = {0:0.2f} kg/m3'.format(np.nanmean(x.rho_snow))\n",
    "print '  VWC = {0:0.2f} m3/m3'.format(np.nanmean(x.vwc_H2O))\n",
    "print '  Height vegetation (Frozen) = {0:0.2f} m'.format(np.nanmean(x.Hvgf))\n",
    "print '  Height vegetation (Thawed) = {0:0.2f} m'.format(np.nanmean(x.Hvgt))\n",
    "print '  Thermal diffusivity vegetation (Frozen) = {0:0.2e}'.format(np.nanmean(x.Dvf))\n",
    "print '  Thermal diffusivity vegetation (Thawed) = {0:0.2e}'.format(np.nanmean(x.Dvt))\n",
    "\n",
    "x.update()\n",
    "\n",
    "x.finalize()\n",
    "\n",
    "time_finish=clock()\n",
    "    \n",
    "print'Running: {0:0.1f} s'.format((time_finish-time_start))\n",
    "\n",
    "print 'Outputs:'\n",
    "print '  ALT = {0:0.2f} m'.format(np.nanmean(x.Zal))\n",
    "print '  TTOP = {0:0.2f} C'.format(np.nanmean(x.Tps))\n",
    "print '  Offset Snow = {0:0.2f} C'.format(np.nanmean(x.deta_Tsn))\n",
    "print '  Offset Vegetation = {0:0.2f} C'.format(np.nanmean(x.deta_Tv))\n",
    "print '  Obs. ALT at Barrow (1995-2002) = 0.36 [0.31-0.41] m'"
   ]
  },
  {
   "cell_type": "code",
   "execution_count": null,
   "metadata": {
    "collapsed": false
   },
   "outputs": [],
   "source": [
    "print x.Zal"
   ]
  },
  {
   "cell_type": "code",
   "execution_count": null,
   "metadata": {
    "collapsed": false
   },
   "outputs": [],
   "source": [
    "print x.cfg_file"
   ]
  },
  {
   "cell_type": "code",
   "execution_count": null,
   "metadata": {
    "collapsed": true
   },
   "outputs": [],
   "source": []
  }
 ],
 "metadata": {
  "anaconda-cloud": {},
  "kernelspec": {
   "display_name": "Python [default]",
   "language": "python",
   "name": "python2"
  },
  "language_info": {
   "codemirror_mode": {
    "name": "ipython",
    "version": 2
   },
   "file_extension": ".py",
   "mimetype": "text/x-python",
   "name": "python",
   "nbconvert_exporter": "python",
   "pygments_lexer": "ipython2",
   "version": "2.7.12"
  }
 },
 "nbformat": 4,
 "nbformat_minor": 0
}
