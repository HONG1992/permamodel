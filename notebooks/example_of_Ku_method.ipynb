{
 "cells": [
  {
   "cell_type": "code",
   "execution_count": 10,
   "metadata": {
    "collapsed": false
   },
   "outputs": [
    {
     "name": "stdout",
     "output_type": "stream",
     "text": [
      " \n",
      "Ku model component: Initializing...\n",
      "initialized\n"
     ]
    }
   ],
   "source": [
    "import sys\n",
    "sys.path.append('../../permamodel/')\n",
    "from permamodel.components import Ku_component \n",
    "x=Ku_component.Ku_method()\n",
    "x.initialize('../permamodel/examples/Fairbanks_Ku_method.cfg')\n",
    "print x.initialize.im_self.status"
   ]
  },
  {
   "cell_type": "code",
   "execution_count": 12,
   "metadata": {
    "collapsed": false
   },
   "outputs": [
    {
     "name": "stdout",
     "output_type": "stream",
     "text": [
      "-147.7164\n",
      "64.8378\n",
      "-9.0\n",
      "15.4\n",
      "0.5\n",
      "240.0\n",
      "0.4\n",
      "0.0\n",
      "0.0\n",
      "139.0\n",
      "5.56\n"
     ]
    }
   ],
   "source": [
    "print x.lon\n",
    "print x.lat\n",
    "print x.T_air\n",
    "print x.A_air\n",
    "print x.h_snow\n",
    "print x.rho_snow\n",
    "print x.vwc_H2O\n",
    "print x.Hvgf\n",
    "print x.Hvgt\n",
    "print x.Dvf\n",
    "print x.Dvt"
   ]
  },
  {
   "cell_type": "code",
   "execution_count": 13,
   "metadata": {
    "collapsed": false
   },
   "outputs": [],
   "source": [
    "x.update()"
   ]
  },
  {
   "cell_type": "code",
   "execution_count": 14,
   "metadata": {
    "collapsed": false
   },
   "outputs": [
    {
     "name": "stdout",
     "output_type": "stream",
     "text": [
      "Permafrost component: Finished.\n",
      "v= 0.473\n"
     ]
    }
   ],
   "source": [
    "x.finalize()\n",
    "\n",
    "print 'v= {0:0.3f}'.format(x.Zal)"
   ]
  },
  {
   "cell_type": "code",
   "execution_count": 6,
   "metadata": {
    "collapsed": false
   },
   "outputs": [
    {
     "name": "stdout",
     "output_type": "stream",
     "text": [
      "v= 1.040\n",
      "v= 0.994\n",
      "v= 0.972\n",
      "v= 0.939\n",
      "v= 0.897\n",
      "v= 0.884\n",
      "v= 0.947\n",
      "v= 0.925\n",
      "v= 0.901\n",
      "v= 0.884\n",
      "v= 0.971\n",
      "v= 0.949\n",
      "v= 0.896\n",
      "v= 0.873\n",
      "v= 0.862\n",
      "v= 0.853\n",
      "v= 0.843\n",
      "v= 0.864\n",
      "v= 0.859\n",
      "v= 0.868\n",
      "v= 0.864\n",
      "v= 0.809\n",
      "v= 0.791\n",
      "v= 0.768\n",
      "v= 0.768\n",
      "v= 0.752\n",
      "v= -999.990\n",
      "v= 0.728\n",
      "v= 0.713\n",
      "v= -999.990\n",
      "v= -999.990\n",
      "v= 0.776\n",
      "v= -999.990\n",
      "v= 0.751\n",
      "v= 0.755\n",
      "v= 0.759\n",
      "v= 0.766\n",
      "v= 0.774\n",
      "v= 0.778\n",
      "v= 0.798\n",
      "v= 0.815\n",
      "v= 0.836\n",
      "v= 0.836\n",
      "v= 0.718\n",
      "v= 0.702\n",
      "v= 0.731\n",
      "v= 0.723\n",
      "v= 0.711\n",
      "v= 0.743\n",
      "v= 0.778\n",
      "v= 0.818\n",
      "v= 0.823\n",
      "v= 0.825\n",
      "v= 0.809\n",
      "v= -999.990\n",
      "v= -999.990\n",
      "v= -999.990\n",
      "v= -999.990\n",
      "v= -999.990\n",
      "v= -999.990\n",
      "v= -999.990\n",
      "v= -999.990\n"
     ]
    }
   ],
   "source": [
    "for i in range(62):\n",
    "    print 'v= {0:0.3f}'.format(x.Zal[i])"
   ]
  }
 ],
 "metadata": {
  "kernelspec": {
   "display_name": "Python 2",
   "language": "python",
   "name": "python2"
  },
  "language_info": {
   "codemirror_mode": {
    "name": "ipython",
    "version": 2
   },
   "file_extension": ".py",
   "mimetype": "text/x-python",
   "name": "python",
   "nbconvert_exporter": "python",
   "pygments_lexer": "ipython2",
   "version": "2.7.11"
  }
 },
 "nbformat": 4,
 "nbformat_minor": 0
}
