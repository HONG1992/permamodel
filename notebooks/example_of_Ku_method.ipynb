{
 "cells": [
  {
   "cell_type": "code",
   "execution_count": 2,
   "metadata": {
    "collapsed": false,
    "scrolled": true
   },
   "outputs": [
    {
     "name": "stdout",
     "output_type": "stream",
     "text": [
      " \n",
      "Ku model component: Initializing...\n"
     ]
    },
    {
     "ename": "ValueError",
     "evalue": "operands could not be broadcast together with shapes (233,) (153,) ",
     "output_type": "error",
     "traceback": [
      "\u001b[0;31m---------------------------------------------------------------------------\u001b[0m",
      "\u001b[0;31mValueError\u001b[0m                                Traceback (most recent call last)",
      "\u001b[0;32m<ipython-input-2-c0d9e924b13a>\u001b[0m in \u001b[0;36m<module>\u001b[0;34m()\u001b[0m\n\u001b[1;32m      7\u001b[0m \u001b[0mx\u001b[0m\u001b[0;34m=\u001b[0m\u001b[0mKu_component\u001b[0m\u001b[0;34m.\u001b[0m\u001b[0mKu_method\u001b[0m\u001b[0;34m(\u001b[0m\u001b[0;34m)\u001b[0m\u001b[0;34m\u001b[0m\u001b[0m\n\u001b[1;32m      8\u001b[0m \u001b[0;34m\u001b[0m\u001b[0m\n\u001b[0;32m----> 9\u001b[0;31m \u001b[0mx\u001b[0m\u001b[0;34m.\u001b[0m\u001b[0minitialize\u001b[0m\u001b[0;34m(\u001b[0m\u001b[0;34m'../permamodel/examples/Fairbanks_Ku_method_grid.cfg'\u001b[0m\u001b[0;34m)\u001b[0m\u001b[0;34m\u001b[0m\u001b[0m\n\u001b[0m\u001b[1;32m     10\u001b[0m \u001b[0;32mprint\u001b[0m \u001b[0mx\u001b[0m\u001b[0;34m.\u001b[0m\u001b[0minitialize\u001b[0m\u001b[0;34m.\u001b[0m\u001b[0mim_self\u001b[0m\u001b[0;34m.\u001b[0m\u001b[0mstatus\u001b[0m\u001b[0;34m\u001b[0m\u001b[0m\n\u001b[1;32m     11\u001b[0m \u001b[0;34m\u001b[0m\u001b[0m\n",
      "\u001b[0;32m/Users/kang/Desktop/permamodel/permamodel/components/Ku_component.py\u001b[0m in \u001b[0;36minitialize\u001b[0;34m(self, cfg_file, mode, SILENT)\u001b[0m\n\u001b[1;32m    828\u001b[0m         \u001b[0;31m#---------------------------------------------\u001b[0m\u001b[0;34m\u001b[0m\u001b[0;34m\u001b[0m\u001b[0m\n\u001b[1;32m    829\u001b[0m         \u001b[0mself\u001b[0m\u001b[0;34m.\u001b[0m\u001b[0mread_whole_soil_texture_from_GSD\u001b[0m\u001b[0;34m(\u001b[0m\u001b[0;34m)\u001b[0m  \u001b[0;31m# import whole GSD\u001b[0m\u001b[0;34m\u001b[0m\u001b[0m\n\u001b[0;32m--> 830\u001b[0;31m         \u001b[0mself\u001b[0m\u001b[0;34m.\u001b[0m\u001b[0mExtract_Soil_Texture_Loops\u001b[0m\u001b[0;34m(\u001b[0m\u001b[0;34m)\u001b[0m        \u001b[0;31m# Extract soil texture for each cell.\u001b[0m\u001b[0;34m\u001b[0m\u001b[0m\n\u001b[0m\u001b[1;32m    831\u001b[0m \u001b[0;34m\u001b[0m\u001b[0m\n\u001b[1;32m    832\u001b[0m         \u001b[0;31m#---------------------------\u001b[0m\u001b[0;34m\u001b[0m\u001b[0;34m\u001b[0m\u001b[0m\n",
      "\u001b[0;32m/Users/kang/Desktop/permamodel/permamodel/components/Ku_component.py\u001b[0m in \u001b[0;36mExtract_Soil_Texture_Loops\u001b[0;34m(self)\u001b[0m\n\u001b[1;32m    592\u001b[0m             \u001b[0mlat\u001b[0m \u001b[0;34m=\u001b[0m \u001b[0mnp\u001b[0m\u001b[0;34m.\u001b[0m\u001b[0mreshape\u001b[0m\u001b[0;34m(\u001b[0m\u001b[0mself\u001b[0m\u001b[0;34m.\u001b[0m\u001b[0mlat\u001b[0m\u001b[0;34m,\u001b[0m \u001b[0mn_grid\u001b[0m\u001b[0;34m,\u001b[0m\u001b[0;36m1\u001b[0m\u001b[0;34m)\u001b[0m\u001b[0;34m\u001b[0m\u001b[0m\n\u001b[1;32m    593\u001b[0m \u001b[0;34m\u001b[0m\u001b[0m\n\u001b[0;32m--> 594\u001b[0;31m             \u001b[0;34m[\u001b[0m\u001b[0mp_clay_list\u001b[0m\u001b[0;34m,\u001b[0m \u001b[0mp_sand_list\u001b[0m\u001b[0;34m,\u001b[0m \u001b[0mp_silt_list\u001b[0m\u001b[0;34m,\u001b[0m \u001b[0mp_peat_list\u001b[0m\u001b[0;34m]\u001b[0m \u001b[0;34m=\u001b[0m \u001b[0mself\u001b[0m\u001b[0;34m.\u001b[0m\u001b[0mExtract_Soil_Texture2\u001b[0m\u001b[0;34m(\u001b[0m\u001b[0mlon\u001b[0m\u001b[0;34m,\u001b[0m \u001b[0mlat\u001b[0m\u001b[0;34m)\u001b[0m\u001b[0;34m;\u001b[0m\u001b[0;34m\u001b[0m\u001b[0m\n\u001b[0m\u001b[1;32m    595\u001b[0m \u001b[0;34m\u001b[0m\u001b[0m\n\u001b[1;32m    596\u001b[0m \u001b[0;31m#            for i in range(n_lon):\u001b[0m\u001b[0;34m\u001b[0m\u001b[0;34m\u001b[0m\u001b[0m\n",
      "\u001b[0;32m/Users/kang/Desktop/permamodel/permamodel/components/Ku_component.py\u001b[0m in \u001b[0;36mExtract_Soil_Texture2\u001b[0;34m(self)\u001b[0m\n\u001b[1;32m    690\u001b[0m         \u001b[0maff\u001b[0m \u001b[0;34m=\u001b[0m \u001b[0mAffine\u001b[0m\u001b[0;34m.\u001b[0m\u001b[0mfrom_gdal\u001b[0m\u001b[0;34m(\u001b[0m\u001b[0mmin_lon\u001b[0m\u001b[0;34m,\u001b[0m \u001b[0mlon_cell_size\u001b[0m\u001b[0;34m,\u001b[0m \u001b[0;36m0.0\u001b[0m\u001b[0;34m,\u001b[0m \u001b[0mmin_lat\u001b[0m\u001b[0;34m,\u001b[0m \u001b[0;36m0.0\u001b[0m\u001b[0;34m,\u001b[0m \u001b[0mlat_cell_size\u001b[0m\u001b[0;34m)\u001b[0m\u001b[0;34m\u001b[0m\u001b[0m\n\u001b[1;32m    691\u001b[0m \u001b[0;34m\u001b[0m\u001b[0m\n\u001b[0;32m--> 692\u001b[0;31m         \u001b[0mx_coords\u001b[0m\u001b[0;34m,\u001b[0m \u001b[0my_coords\u001b[0m \u001b[0;34m=\u001b[0m \u001b[0;34m~\u001b[0m\u001b[0maff\u001b[0m \u001b[0;34m*\u001b[0m \u001b[0;34m(\u001b[0m\u001b[0mlon\u001b[0m\u001b[0;34m,\u001b[0m \u001b[0mlat\u001b[0m\u001b[0;34m)\u001b[0m\u001b[0;34m\u001b[0m\u001b[0m\n\u001b[0m\u001b[1;32m    693\u001b[0m \u001b[0;34m\u001b[0m\u001b[0m\n\u001b[1;32m    694\u001b[0m         \u001b[0mx_coords\u001b[0m \u001b[0;34m=\u001b[0m \u001b[0mnp\u001b[0m\u001b[0;34m.\u001b[0m\u001b[0mround\u001b[0m\u001b[0;34m(\u001b[0m\u001b[0mx_coords\u001b[0m\u001b[0;34m)\u001b[0m\u001b[0;34m.\u001b[0m\u001b[0mastype\u001b[0m\u001b[0;34m(\u001b[0m\u001b[0mnp\u001b[0m\u001b[0;34m.\u001b[0m\u001b[0mint\u001b[0m\u001b[0;34m)\u001b[0m\u001b[0;34m\u001b[0m\u001b[0m\n",
      "\u001b[0;32m/Users/kang/anaconda/lib/python2.7/site-packages/affine/__init__.pyc\u001b[0m in \u001b[0;36m__mul__\u001b[0;34m(self, other)\u001b[0m\n\u001b[1;32m    386\u001b[0m             \u001b[0;32mexcept\u001b[0m \u001b[0mException\u001b[0m\u001b[0;34m:\u001b[0m\u001b[0;34m\u001b[0m\u001b[0m\n\u001b[1;32m    387\u001b[0m                 \u001b[0;32mreturn\u001b[0m \u001b[0mNotImplemented\u001b[0m\u001b[0;34m\u001b[0m\u001b[0m\n\u001b[0;32m--> 388\u001b[0;31m             \u001b[0;32mreturn\u001b[0m \u001b[0;34m(\u001b[0m\u001b[0mvx\u001b[0m \u001b[0;34m*\u001b[0m \u001b[0msa\u001b[0m \u001b[0;34m+\u001b[0m \u001b[0mvy\u001b[0m \u001b[0;34m*\u001b[0m \u001b[0msd\u001b[0m \u001b[0;34m+\u001b[0m \u001b[0msc\u001b[0m\u001b[0;34m,\u001b[0m \u001b[0mvx\u001b[0m \u001b[0;34m*\u001b[0m \u001b[0msb\u001b[0m \u001b[0;34m+\u001b[0m \u001b[0mvy\u001b[0m \u001b[0;34m*\u001b[0m \u001b[0mse\u001b[0m \u001b[0;34m+\u001b[0m \u001b[0msf\u001b[0m\u001b[0;34m)\u001b[0m\u001b[0;34m\u001b[0m\u001b[0m\n\u001b[0m\u001b[1;32m    389\u001b[0m \u001b[0;34m\u001b[0m\u001b[0m\n\u001b[1;32m    390\u001b[0m     \u001b[0;32mdef\u001b[0m \u001b[0m__rmul__\u001b[0m\u001b[0;34m(\u001b[0m\u001b[0mself\u001b[0m\u001b[0;34m,\u001b[0m \u001b[0mother\u001b[0m\u001b[0;34m)\u001b[0m\u001b[0;34m:\u001b[0m\u001b[0;34m\u001b[0m\u001b[0m\n",
      "\u001b[0;31mValueError\u001b[0m: operands could not be broadcast together with shapes (233,) (153,) "
     ]
    }
   ],
   "source": [
    "import sys\n",
    "sys.path.append('../../permamodel/')\n",
    "\n",
    "from time import clock\n",
    "time_start = clock()\n",
    "from permamodel.components import Ku_component \n",
    "x=Ku_component.Ku_method()\n",
    "\n",
    "x.initialize('../permamodel/examples/Fairbanks_Ku_method_grid.cfg')\n",
    "print x.initialize.im_self.status\n",
    "\n",
    "import numpy as np\n",
    "print np.nanmean(x.lon)\n",
    "print np.nanmean(x.lat)\n",
    "print np.nanmean(x.T_air)\n",
    "print np.nanmean(x.A_air)\n",
    "print np.nanmean(x.h_snow)\n",
    "print np.nanmean(x.rho_snow)\n",
    "print np.nanmean(x.vwc_H2O)\n",
    "print np.nanmean(x.Hvgf)\n",
    "print np.nanmean(x.Hvgt)\n",
    "print np.nanmean(x.Dvf)\n",
    "print np.nanmean(x.Dvt)\n",
    "\n",
    "print 'Total grids = {0:d} '.format(np.sum(~np.isnan(x.T_air)))\n",
    "\n",
    "x.update()\n",
    "\n",
    "x.finalize()\n",
    "\n",
    "time_finish=clock()\n",
    "    \n",
    "print'Running: {0:0.1f} s'.format((time_finish-time_start))\n",
    "\n",
    "print 'ALT_min = {0:0.3f} m'.format(np.nanmin(x.Zal))\n",
    "print 'ALT_avg = {0:0.3f} m'.format(np.nanmean(x.Zal))\n",
    "print 'ALT_max = {0:0.3f} m'.format(np.nanmax(x.Zal))"
   ]
  },
  {
   "cell_type": "code",
   "execution_count": null,
   "metadata": {
    "collapsed": true
   },
   "outputs": [],
   "source": []
  }
 ],
 "metadata": {
  "kernelspec": {
   "display_name": "Python 2",
   "language": "python",
   "name": "python2"
  },
  "language_info": {
   "codemirror_mode": {
    "name": "ipython",
    "version": 2
   },
   "file_extension": ".py",
   "mimetype": "text/x-python",
   "name": "python",
   "nbconvert_exporter": "python",
   "pygments_lexer": "ipython2",
   "version": "2.7.11"
  }
 },
 "nbformat": 4,
 "nbformat_minor": 0
}
