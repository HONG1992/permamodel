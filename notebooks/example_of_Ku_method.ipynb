{
 "cells": [
  {
   "cell_type": "code",
   "execution_count": 1,
   "metadata": {
    "collapsed": false
   },
   "outputs": [],
   "source": [
    "import sys\n",
    "sys.path.append('../../permamodel/')"
   ]
  },
  {
   "cell_type": "code",
   "execution_count": 2,
   "metadata": {
    "collapsed": false
   },
   "outputs": [
    {
     "name": "stdout",
     "output_type": "stream",
     "text": [
      "Importing PermaModel packages:\n",
      "   permamodel.utils\n",
      "   permamodel.components\n",
      " \n"
     ]
    }
   ],
   "source": [
    "from permamodel.components import Ku_component \n",
    "x=Ku_component.Ku_method()"
   ]
  },
  {
   "cell_type": "code",
   "execution_count": 3,
   "metadata": {
    "collapsed": false
   },
   "outputs": [
    {
     "name": "stdout",
     "output_type": "stream",
     "text": [
      " \n",
      "Ku model component: Initializing...\n",
      "initialized\n",
      "[-147.5 -147.  -146.5 -146.  -145.5]\n",
      "[ 65.  65.  65.  65.  65.]\n",
      "[-1.174041 -1.453914 -1.805571 -2.157102 -2.508759]\n",
      "[ 18.508404  18.39039   18.23254   18.074688  17.917589]\n",
      "[ 0.242385  0.242743  0.245147  0.247851  0.250211]\n",
      "[ 239.  251.  237.  236.  246.]\n",
      "[ 0.352368  0.369973  0.376687  0.383401  0.390114]\n",
      "[ 0.  0.  0.  0.  0.]\n",
      "[ 0.  0.  0.  0.  0.]\n",
      "[  1.39000000e-06   1.39000000e-06   1.39000000e-06   1.39000000e-06\n",
      "   1.39000000e-06]\n",
      "[  5.56000000e-08   5.56000000e-08   5.56000000e-08   5.56000000e-08\n",
      "   5.56000000e-08]\n"
     ]
    }
   ],
   "source": [
    "x.initialize('../permamodel/examples/Fairbanks_Ku_method_grid.cfg')\n",
    "print x.initialize.im_self.status\n",
    "print x.Lon_list[0:5]\n",
    "print x.Lat_list[0:5]\n",
    "print x.T_air[0:5]\n",
    "print x.A_air[0:5]\n",
    "print x.h_snow[0:5]\n",
    "print x.rho_snow[0:5]\n",
    "print x.vwc_H2O[0:5]\n",
    "print x.Hvgf[0:5]\n",
    "print x.Hvgt[0:5]\n",
    "print x.Dvf[0:5]\n",
    "print x.Dvt[0:5]"
   ]
  },
  {
   "cell_type": "code",
   "execution_count": 5,
   "metadata": {
    "collapsed": false
   },
   "outputs": [],
   "source": [
    "x.update()"
   ]
  },
  {
   "cell_type": "code",
   "execution_count": 6,
   "metadata": {
    "collapsed": false
   },
   "outputs": [
    {
     "name": "stdout",
     "output_type": "stream",
     "text": [
      "Permafrost component: Finished.\n"
     ]
    }
   ],
   "source": [
    "x.finalize()"
   ]
  },
  {
   "cell_type": "code",
   "execution_count": 7,
   "metadata": {
    "collapsed": false
   },
   "outputs": [
    {
     "name": "stdout",
     "output_type": "stream",
     "text": [
      "v= 1.040\n",
      "v= 0.994\n",
      "v= 0.972\n",
      "v= 0.939\n",
      "v= 0.897\n",
      "v= 0.884\n",
      "v= 0.947\n",
      "v= 0.925\n",
      "v= 0.901\n",
      "v= 0.884\n",
      "v= 0.971\n",
      "v= 0.949\n",
      "v= 0.896\n",
      "v= 0.873\n",
      "v= 0.862\n",
      "v= 0.853\n",
      "v= 0.843\n",
      "v= 0.864\n",
      "v= 0.859\n",
      "v= 0.868\n",
      "v= 0.864\n",
      "v= 0.809\n",
      "v= 0.791\n",
      "v= 0.768\n",
      "v= 0.768\n",
      "v= 0.752\n",
      "v= -999.990\n",
      "v= 0.728\n",
      "v= 0.713\n",
      "v= -999.990\n",
      "v= -999.990\n",
      "v= 0.776\n",
      "v= -999.990\n",
      "v= 0.751\n",
      "v= 0.755\n",
      "v= 0.759\n",
      "v= 0.766\n",
      "v= 0.774\n",
      "v= 0.778\n",
      "v= 0.798\n",
      "v= 0.815\n",
      "v= 0.836\n",
      "v= 0.836\n",
      "v= 0.718\n",
      "v= 0.702\n",
      "v= 0.731\n",
      "v= 0.723\n",
      "v= 0.711\n",
      "v= 0.743\n",
      "v= 0.778\n",
      "v= 0.818\n",
      "v= 0.823\n",
      "v= 0.825\n",
      "v= 0.809\n",
      "v= -999.990\n",
      "v= -999.990\n",
      "v= -999.990\n",
      "v= -999.990\n",
      "v= -999.990\n",
      "v= -999.990\n",
      "v= -999.990\n",
      "v= -999.990\n",
      "v= 0.786\n",
      "v= -999.990\n",
      "v= -999.990\n",
      "v= -999.990\n",
      "v= -999.990\n",
      "v= -999.990\n",
      "v= -999.990\n",
      "v= -999.990\n",
      "v= 0.675\n",
      "v= -999.990\n"
     ]
    }
   ],
   "source": [
    "for i in range(72):\n",
    "    print 'v= {0:0.3f}'.format(x.Zal[i])"
   ]
  },
  {
   "cell_type": "code",
   "execution_count": 9,
   "metadata": {
    "collapsed": false
   },
   "outputs": [
    {
     "name": "stdout",
     "output_type": "stream",
     "text": [
      "[ 0.08128219  0.08817223  0.08022438  0.07970517  0.08518823  0.0857721\n",
      "  0.0875625   0.08347542  0.08695923  0.07818634  0.10172475  0.1009857\n",
      "  0.10025311  0.09880734  0.09880734  0.09880734  0.09809415  0.09196642\n",
      "  0.08636243  0.08128219  0.07769299  0.09809415  0.09952699  0.09880734\n",
      "  0.09809415  0.09738743  0.09599338  0.09530605  0.09131789  0.08636243\n",
      "  0.0818208   0.07818634  0.09738743  0.09809415  0.09809415  0.09880734\n",
      "  0.09952699  0.10025311  0.10025311  0.09952699  0.09809415  0.09668717\n",
      "  0.09462519  0.09809415  0.09738743  0.09668717  0.09668717  0.09738743\n",
      "  0.09809415  0.10025311  0.10172475  0.10247027  0.10247027  0.1009857\n",
      "  0.09196642  0.09462519  0.09809415  0.09809415  0.1009857   0.10247027\n",
      "  0.1009857   0.09668717  0.09599338  0.09599338  0.12050759  0.12140183\n",
      "  0.12140183  0.11442898  0.09530605  0.07970517  0.07818634  0.08636243]\n"
     ]
    }
   ],
   "source": [
    "print x.Ksn"
   ]
  },
  {
   "cell_type": "code",
   "execution_count": null,
   "metadata": {
    "collapsed": true
   },
   "outputs": [],
   "source": []
  }
 ],
 "metadata": {
  "kernelspec": {
   "display_name": "Python 2",
   "language": "python",
   "name": "python2"
  },
  "language_info": {
   "codemirror_mode": {
    "name": "ipython",
    "version": 2
   },
   "file_extension": ".py",
   "mimetype": "text/x-python",
   "name": "python",
   "nbconvert_exporter": "python",
   "pygments_lexer": "ipython2",
   "version": "2.7.11"
  }
 },
 "nbformat": 4,
 "nbformat_minor": 0
}
