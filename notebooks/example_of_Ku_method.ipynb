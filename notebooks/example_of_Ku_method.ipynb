{
 "cells": [
  {
   "cell_type": "code",
   "execution_count": 1,
   "metadata": {
    "collapsed": false,
    "scrolled": true
   },
   "outputs": [
    {
     "name": "stdout",
     "output_type": "stream",
     "text": [
      "Importing PermaModel packages:\n",
      "   permamodel.utils\n",
      "   permamodel.components\n",
      " \n",
      " \n",
      "Ku model component: Initializing...\n",
      "initialized\n",
      "Total grids = 8 \n",
      "Permafrost component: Finished.\n",
      "Running: 4.6 s\n",
      "ALT_min = 0.481 m\n",
      "ALT_avg = 0.580 m\n",
      "ALT_max = 0.750 m\n",
      "0.657142857143\n",
      "0.579661843845\n"
     ]
    },
    {
     "data": {
      "text/plain": [
       "<matplotlib.text.Text at 0x112afdc90>"
      ]
     },
     "execution_count": 1,
     "metadata": {},
     "output_type": "execute_result"
    },
    {
     "data": {
      "image/png": "[encoded data removed]",
      "text/plain": [
       "<matplotlib.figure.Figure at 0x102f3ae90>"
      ]
     },
     "metadata": {},
     "output_type": "display_data"
    }
   ],
   "source": [
    "import sys\n",
    "sys.path.append('../../permamodel/')\n",
    "\n",
    "from time import clock\n",
    "time_start = clock()\n",
    "from permamodel.components import Ku_component \n",
    "x=Ku_component.Ku_method()\n",
    "\n",
    "x.initialize('../permamodel/examples/Fairbanks_Ku_method_ts.cfg')\n",
    "print x.initialize.im_self.status\n",
    "\n",
    "import numpy as np\n",
    "#print np.nanmean(x.lon)\n",
    "#print np.nanmean(x.lat)\n",
    "#print np.nanmean(x.T_air)\n",
    "#print np.nanmean(x.A_air)TS\n",
    "#print np.nanmean(x.h_snow)\n",
    "#print np.nanmean(x.rho_snow)\n",
    "#print np.nanmean(x.vwc_H2O)\n",
    "#print np.nanmean(x.Hvgf)\n",
    "#print np.nanmean(x.Hvgt)\n",
    "#print np.nanmean(x.Dvf)\n",
    "#print np.nanmean(x.Dvt)\n",
    "\n",
    "print 'Total grids = {0:d} '.format(np.sum(~np.isnan(x.T_air)))\n",
    "\n",
    "x.update()\n",
    "\n",
    "x.finalize()\n",
    "\n",
    "time_finish=clock()\n",
    "    \n",
    "print'Running: {0:0.1f} s'.format((time_finish-time_start))\n",
    "\n",
    "print 'ALT_min = {0:0.3f} m'.format(np.nanmin(x.Zal))\n",
    "print 'ALT_avg = {0:0.3f} m'.format(np.nanmean(x.Zal))\n",
    "print 'ALT_max = {0:0.3f} m'.format(np.nanmax(x.Zal))\n",
    "\n",
    "obs = np.loadtxt('DH_2008_2015.csv',delimiter=',')\n",
    "obs = np.transpose(obs)\n",
    "obs[np.where(obs<0)] = np.nan;\n",
    "obs = obs/100;\n",
    "\n",
    "print np.nanmean(obs)\n",
    "print np.nanmean(x.Zal)\n",
    "\n",
    "%matplotlib inline\n",
    "import matplotlib.pyplot as plt\n",
    "\n",
    "fig = plt.figure()\n",
    "ax = fig.add_subplot(111)\n",
    "\n",
    "b = x.Zal[0]\n",
    "\n",
    "plt.scatter(obs[0:6], b[0:6])\n",
    "\n",
    "plt.plot(np.linspace(0, 1.1), np.linspace(0, 1.1),'k--')\n",
    "\n",
    "ax.set_xlim((0.4, 0.8))\n",
    "ax.set_ylim((0.4, 0.8))\n",
    "\n",
    "plt.axes().set_aspect('equal')\n",
    "\n",
    "ax.set_xlabel('Obs. ALT (m)')\n",
    "ax.set_ylabel('Sim. ALT (m)')"
   ]
  },
  {
   "cell_type": "code",
   "execution_count": 2,
   "metadata": {
    "collapsed": false
   },
   "outputs": [
    {
     "name": "stdout",
     "output_type": "stream",
     "text": [
      "[ 0.63  0.58  0.65  0.63  0.69  0.72  0.7    nan]\n"
     ]
    }
   ],
   "source": [
    "print obs"
   ]
  },
  {
   "cell_type": "code",
   "execution_count": 2,
   "metadata": {
    "collapsed": false
   },
   "outputs": [
    {
     "name": "stdout",
     "output_type": "stream",
     "text": [
      "[[ 1.          0.67487524]\n",
      " [ 0.67487524  1.        ]]\n"
     ]
    }
   ],
   "source": [
    "print np.corrcoef(obs[0:6],b[0:6])"
   ]
  },
  {
   "cell_type": "code",
   "execution_count": 3,
   "metadata": {
    "collapsed": false
   },
   "outputs": [
    {
     "name": "stdout",
     "output_type": "stream",
     "text": [
      "[ 3.40090187  4.75698126  4.28494202  4.68149255  6.01904235  5.61296437\n",
      "  3.98749287  3.21639476]\n",
      "[ 2.16508138  3.02838833  2.72787881  2.98033072  3.83184137  3.5733241\n",
      "  2.5385168   2.0476205 ]\n"
     ]
    }
   ],
   "source": [
    "print x.deta_Tsn\n",
    "print x.deta_Asn"
   ]
  },
  {
   "cell_type": "code",
   "execution_count": null,
   "metadata": {
    "collapsed": true
   },
   "outputs": [],
   "source": []
  }
 ],
 "metadata": {
  "kernelspec": {
   "display_name": "Python 2",
   "language": "python",
   "name": "python2"
  },
  "language_info": {
   "codemirror_mode": {
    "name": "ipython",
    "version": 2
   },
   "file_extension": ".py",
   "mimetype": "text/x-python",
   "name": "python",
   "nbconvert_exporter": "python",
   "pygments_lexer": "ipython2",
   "version": "2.7.11"
  }
 },
 "nbformat": 4,
 "nbformat_minor": 0
}
