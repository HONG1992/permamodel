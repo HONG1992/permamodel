{
 "cells": [
  {
   "cell_type": "code",
   "execution_count": 1,
   "metadata": {
    "collapsed": false
   },
   "outputs": [
    {
     "name": "stdout",
     "output_type": "stream",
     "text": [
      "Importing PermaModel packages:\n",
      "   permamodel.utils\n",
      "   permamodel.components\n",
      " \n"
     ]
    }
   ],
   "source": [
    "import sys\n",
    "sys.path.append('../../permamodel/')\n",
    "from permamodel.components import Ku_component \n",
    "x=Ku_component.Ku_method()"
   ]
  },
  {
   "cell_type": "code",
   "execution_count": 2,
   "metadata": {
    "collapsed": false
   },
   "outputs": [
    {
     "name": "stdout",
     "output_type": "stream",
     "text": [
      " \n",
      "Ku model component: Initializing...\n"
     ]
    },
    {
     "name": "stderr",
     "output_type": "stream",
     "text": [
      "/Users/kang/anaconda/lib/python2.7/site-packages/numpy/ma/core.py:4089: UserWarning: Warning: converting a masked element to nan.\n",
      "  warnings.warn(\"Warning: converting a masked element to nan.\")\n"
     ]
    },
    {
     "name": "stdout",
     "output_type": "stream",
     "text": [
      "initialized\n",
      "-154.5\n",
      "62.5\n",
      "-3.09443008355\n",
      "16.1445192494\n",
      "1.12599921667\n",
      "226.363511664\n",
      "0.364113592947\n",
      "0.0\n",
      "0.0\n",
      "1.39e-06\n",
      "5.56e-08\n"
     ]
    }
   ],
   "source": [
    "x.initialize('../permamodel/examples/Fairbanks_Ku_method_grid.cfg')\n",
    "print x.initialize.im_self.status\n",
    "import numpy as np\n",
    "print np.nanmean(x.lon)\n",
    "print np.nanmean(x.lat)\n",
    "print np.nanmean(x.T_air)\n",
    "print np.nanmean(x.A_air)\n",
    "print np.nanmean(x.h_snow)\n",
    "print np.nanmean(x.rho_snow)\n",
    "print np.nanmean(x.vwc_H2O)\n",
    "print np.nanmean(x.Hvgf)\n",
    "print np.nanmean(x.Hvgt)\n",
    "print np.nanmean(x.Dvf)\n",
    "print np.nanmean(x.Dvt)"
   ]
  },
  {
   "cell_type": "code",
   "execution_count": 4,
   "metadata": {
    "collapsed": false
   },
   "outputs": [],
   "source": [
    "x.update()"
   ]
  },
  {
   "cell_type": "code",
   "execution_count": 5,
   "metadata": {
    "collapsed": false
   },
   "outputs": [
    {
     "name": "stdout",
     "output_type": "stream",
     "text": [
      "Permafrost component: Finished.\n"
     ]
    }
   ],
   "source": [
    "x.finalize()"
   ]
  },
  {
   "cell_type": "code",
   "execution_count": 7,
   "metadata": {
    "collapsed": false
   },
   "outputs": [
    {
     "name": "stdout",
     "output_type": "stream",
     "text": [
      "ALT_min = 0.427 m\n",
      "ALT_avg = 0.792 m\n",
      "ALT_max = 2.105 m\n"
     ]
    }
   ],
   "source": [
    "print 'ALT_min = {0:0.3f} m'.format(np.nanmin(x.Zal))\n",
    "print 'ALT_avg = {0:0.3f} m'.format(np.nanmean(x.Zal))\n",
    "print 'ALT_max = {0:0.3f} m'.format(np.nanmax(x.Zal))"
   ]
  },
  {
   "cell_type": "code",
   "execution_count": null,
   "metadata": {
    "collapsed": true
   },
   "outputs": [],
   "source": []
  }
 ],
 "metadata": {
  "kernelspec": {
   "display_name": "Python 2",
   "language": "python",
   "name": "python2"
  },
  "language_info": {
   "codemirror_mode": {
    "name": "ipython",
    "version": 2
   },
   "file_extension": ".py",
   "mimetype": "text/x-python",
   "name": "python",
   "nbconvert_exporter": "python",
   "pygments_lexer": "ipython2",
   "version": "2.7.11"
  }
 },
 "nbformat": 4,
 "nbformat_minor": 0
}
